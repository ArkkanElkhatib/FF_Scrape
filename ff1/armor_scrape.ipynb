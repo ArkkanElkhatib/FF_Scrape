{
 "cells": [
  {
   "cell_type": "code",
   "execution_count": 1,
   "id": "311f0a3c-e09a-4019-98b8-94475f11257e",
   "metadata": {},
   "outputs": [],
   "source": [
    "import numpy as np\n",
    "import pandas as pd"
   ]
  },
  {
   "cell_type": "code",
   "execution_count": 2,
   "id": "f91324f0-61e9-436e-b44e-819c7c20fc94",
   "metadata": {},
   "outputs": [],
   "source": [
    "armor_df = pd.read_html('https://finalfantasy.fandom.com/wiki/Final_Fantasy_armor')"
   ]
  },
  {
   "cell_type": "code",
   "execution_count": 3,
   "id": "c7c85870-3f6d-4666-b926-d5dbf0abd0f7",
   "metadata": {},
   "outputs": [],
   "source": [
    "shields = armor_df[1]\n",
    "helmet = armor_df[2]\n",
    "body_armor = armor_df[3]\n",
    "gloves = armor_df[4]"
   ]
  },
  {
   "cell_type": "code",
   "execution_count": 4,
   "id": "05e6021c-8e13-4abc-8b3b-b1618bff0c2a",
   "metadata": {},
   "outputs": [],
   "source": [
    "all_armor_df = pd.DataFrame()\n",
    "\n",
    "armor_dfs = [\n",
    "    shields, helmet, body_armor, gloves\n",
    "]\n",
    "armor_types = [\n",
    "    'Sheilds', 'Helmet', 'Body Armor', 'Gloves'\n",
    "]\n",
    "\n",
    "for armor_df, armor_type in zip(armor_dfs, armor_types):\n",
    "    armor_df['Armor Type'] = armor_type\n",
    "    all_armor_df = pd.concat([all_armor_df, armor_df], ignore_index=True)"
   ]
  },
  {
   "cell_type": "code",
   "execution_count": 5,
   "id": "eccab5d8-787f-41c1-a8de-3f7eb2bcbf77",
   "metadata": {},
   "outputs": [],
   "source": [
    "reshaped = all_armor_df.copy()\n",
    "\n",
    "reshaped['Count'] = reshaped.groupby('Name').cumcount()\n",
    "\n",
    "reshaped = reshaped.pivot(index='Name', columns='Count', values=['Jobs'])\n",
    "\n",
    "PIVOT_RENAME = {\n",
    "    '0': 'Jobs',\n",
    "    '1': 'Effect',\n",
    "    '2': 'Description',\n",
    "}\n",
    "\n",
    "reshaped.columns = [f'{i}' for col, i in reshaped.columns]\n",
    "reshaped.reset_index(inplace=True)\n",
    "reshaped = reshaped.rename(columns = PIVOT_RENAME)\n",
    "\n",
    "reshaped['Effect'], reshaped['Description'] = np.where(reshaped['Description'].isna(), (reshaped['Description'], reshaped['Effect']), (reshaped['Effect'], reshaped['Description']))\n",
    "\n",
    "reshaped['Effect'] = np.where(reshaped['Effect'].isna(), ('No Effect'), (reshaped['Effect']))"
   ]
  },
  {
   "cell_type": "code",
   "execution_count": 6,
   "id": "c6e43fe0-3338-4b3d-85e0-1fb3fed2eca0",
   "metadata": {},
   "outputs": [],
   "source": [
    "grouped = all_armor_df.groupby('Name').first()\n",
    "\n",
    "grouped.reset_index(inplace=True)\n",
    "\n",
    "all_armor_df = grouped.merge(reshaped)"
   ]
  },
  {
   "cell_type": "code",
   "execution_count": 7,
   "id": "a5358650-5e64-4439-afc5-a813e0add2e5",
   "metadata": {},
   "outputs": [
    {
     "data": {
      "text/plain": [
       "['Name',\n",
       " 'PS/GBA Image',\n",
       " 'PSP Image',\n",
       " 'Jobs',\n",
       " 'Defense',\n",
       " 'Evasion',\n",
       " 'Weight',\n",
       " 'Acquirement',\n",
       " 'Cost',\n",
       " 'Unnamed: 9',\n",
       " 'Armor Type',\n",
       " 'Acquisition',\n",
       " 'Effect',\n",
       " 'Description']"
      ]
     },
     "execution_count": 7,
     "metadata": {},
     "output_type": "execute_result"
    }
   ],
   "source": [
    "all_armor_df.columns.values.tolist()"
   ]
  },
  {
   "cell_type": "code",
   "execution_count": 8,
   "id": "6a9765ae-aef8-4566-a0c0-3b2606160729",
   "metadata": {},
   "outputs": [],
   "source": [
    "all_armor_df['Cost'] = all_armor_df['Cost'].str.replace('(^[^0-9]+?(.*))', 'N/A', regex=True)\n",
    "all_armor_df['Cost'] = all_armor_df['Cost'].str.replace('Sells(.*)', '', regex=True)\n",
    "all_armor_df['Jobs'] = all_armor_df['Jobs'].str.replace('Black Wizard', 'BW')\n",
    "all_armor_df['Jobs'] = all_armor_df['Jobs'].str.replace('White Wizard', 'WW')\n",
    "all_armor_df['Jobs'] = all_armor_df['Jobs'].str.replace('Red Wizard', 'RW')\n",
    "all_armor_df['Jobs'] = all_armor_df['Jobs'].str.replace('Knight', 'Kn')\n",
    "all_armor_df['Jobs'] = all_armor_df['Jobs'].str.replace('Ninja', 'Ni')\n",
    "all_armor_df['Jobs'] = all_armor_df['Jobs'].str.replace('All jobs but Thief', 'Wa, Kn, Ni, RM, RW, BM, BW, Mo, Ma')\n",
    "all_armor_df['Jobs'] = all_armor_df['Jobs'].str.replace('All jobs but Mo & Ma', 'Wa, Kn, Th, Ni, RM, RW, BM, BW')\n",
    "all_armor_df['Jobs'] = all_armor_df['Jobs'].str.replace('All jobs', 'Wa, Kn, Th, Ni, RM, RW, BM, BW, Mo, Ma')"
   ]
  },
  {
   "cell_type": "code",
   "execution_count": 9,
   "id": "41de47a1-2f74-4c6f-bd10-738d21efd7b9",
   "metadata": {},
   "outputs": [],
   "source": [
    "all_armor_df['Alternative Name'] = all_armor_df['Name'].str.extract(\n",
    "    '(\\\\(.*)'\n",
    ")\n",
    "\n",
    "all_armor_df['Alternative Name'] = all_armor_df['Alternative Name'].str.replace(') (', ', ')\n",
    "all_armor_df['Alternative Name'] = all_armor_df['Alternative Name'].str.replace('(', '')\n",
    "all_armor_df['Alternative Name'] = all_armor_df['Alternative Name'].str.replace(')', '')\n",
    "\n",
    "all_armor_df['Name'] = all_armor_df['Name'].str.replace('(\\\\(.*)', '', regex=True)"
   ]
  },
  {
   "cell_type": "code",
   "execution_count": 10,
   "id": "5834776c-b83c-4cf5-915d-87e6378430bd",
   "metadata": {},
   "outputs": [],
   "source": [
    "all_armor_df['Acquirement'] = np.where(all_armor_df['Acquirement'].notna(), all_armor_df['Acquirement'], all_armor_df['Acquisition'])\n",
    "\n",
    "b_df = all_armor_df['Acquirement'].str.extract('(?=Buy: (.*?) (?=[A-Z][a-z]+:))|(?=Buy: (.*))', expand=False)\n",
    "all_armor_df['Buy'] = np.where(b_df[0].notna(), b_df[0], b_df[1])\n",
    "\n",
    "f_df = all_armor_df['Acquirement'].str.extract('(?=Find: (.*?) (?=[A-Z][a-z]+:))|(?=Find: (.*))', expand=False)\n",
    "all_armor_df['Find'] = np.where(f_df[0].notna(), f_df[0], f_df[1])\n",
    "\n",
    "d_df = all_armor_df['Acquirement'].str.extract('(?=Drop: (.*?) (?=[A-Z][a-z]+:))|(?=Drop: (.*))', expand=False)\n",
    "all_armor_df['Drop'] = np.where(d_df[0].notna(), d_df[0], d_df[1])"
   ]
  },
  {
   "cell_type": "code",
   "execution_count": 11,
   "id": "70bda11b-8f4a-46f4-b86a-9a79ab5cf80b",
   "metadata": {},
   "outputs": [],
   "source": [
    "BONUS_AREAS = [\n",
    "    'Earthgift Shrine', \n",
    "    'Hellfire Chasm', \n",
    "    'Lifespring Grotto', \n",
    "    'Whisperwind Cove',\n",
    "    'Labyrinth of Time',\n",
    "]\n",
    "\n",
    "BONUS_ENCOUNTERS = [\n",
    "    'Black Goblin',\n",
    "    'Wild Nakk',\n",
    "    'Gloom Widow',\n",
    "    'Desertpede',\n",
    "    'Catoblepas',\n",
    "    'Abyss Warm',\n",
    "    'Skudier',\n",
    "    'Silver Dragon',\n",
    "    'Dark Elemental',\n",
    "    'Devil Hound',\n",
    "    'Hundlegs'\n",
    "    'Python',\n",
    "    'Yellow Ogre',\n",
    "    'Elm Gigas',\n",
    "    'Death Elemental',\n",
    "    'Blue Troll',\n",
    "    'Poison Naga',\n",
    "    'Sahagin Queen',\n",
    "    'Revenant',\n",
    "    'Black Dragon',\n",
    "    'Blue Dragon',\n",
    "    'Dragon Zombie',\n",
    "    'Green Dragon',\n",
    "    'Holy Dragon',\n",
    "    'Red Dragon',\n",
    "    'White Dragon',\n",
    "    'Yellow Dragon',\n",
    "    'Death Manticore',\n",
    "    'Killer Shark',\n",
    "    'Dark Eye',\n",
    "    'Dark Wolf',\n",
    "    'Knocker',\n",
    "    'Red Flan',\n",
    "    'Squidraken'\n",
    "    'Earth Troll',\n",
    "    'Sekhret',\n",
    "    'Rock Gargoyle',\n",
    "    'Poison Eagle',\n",
    "    'Reaper',\n",
    "    'Undergrounder',\n",
    "    'Bonesnatch',\n",
    "    'Flood Gigas',\n",
    "    'Mad Ogre',\n",
    "    'Devil Wizard',\n",
    "    'Duel Knight',\n",
    "    'Unicorn',\n",
    "    'Prototype',\n",
    "    'Earth Plant',\n",
    "    'Bloody Eye',\n",
    "    'Mage Chimera',\n",
    "    'Mythril Golem',\n",
    "    'Yamatano Orochi',\n",
    "    'Blood Tiger',\n",
    "    'Pharaoh',\n",
    "    'Hundlegs',\n",
    "    'Flare Gigas',\n",
    "]\n",
    "\n",
    "BONUS_BOSSES = [\n",
    "    'Ahriman',\n",
    "    'Cerberus',\n",
    "    'Echidna',\n",
    "    'Two-Headed Dragon',\n",
    "    'Cognazzo',\n",
    "    'Scarmiglione',\n",
    "    'Barbariccia',\n",
    "    'Rubicante',\n",
    "    'Gilgamesh',\n",
    "    'Atomos',\n",
    "    'Omega',\n",
    "    'Shinrya',\n",
    "    'Astos',\n",
    "    'Vampire',\n",
    "    'Typhon',\n",
    "    'Orthros',\n",
    "    'Phatom Train',\n",
    "    'Death Gaze',\n",
    "    'Chronodia',\n",
    "]\n",
    "\n",
    "BONUS_CONTENT = BONUS_AREAS + BONUS_ENCOUNTERS + BONUS_BOSSES\n",
    "\n",
    "all_armor_df['Bonus Content'] = all_armor_df['Acquirement'].apply(lambda x: True if any(bonus in x for bonus in BONUS_CONTENT) else False)"
   ]
  },
  {
   "cell_type": "code",
   "execution_count": 12,
   "id": "8f6325eb-bf79-4e95-ab70-b8c2583d8a09",
   "metadata": {},
   "outputs": [],
   "source": [
    "split_costs = all_armor_df.copy()\n",
    "\n",
    "split_costs['Cost (Easy)'] = split_costs['Cost'].str.extract(\n",
    "    '(.*) \\\\(Easy\\\\) ')\n",
    "split_costs['Cost (Normal)'] = split_costs['Cost'].str.extract(\n",
    "    '\\\\(Easy\\\\) (.*) \\\\(Normal\\\\)')\n",
    "\n",
    "split_costs['Cost (Easy)'] = np.where(split_costs['Cost (Easy)'].isna(),\n",
    "    split_costs['Cost'], split_costs['Cost (Easy)'])\n",
    "split_costs['Cost (Normal)'] = np.where(split_costs['Cost (Normal)'].isna(),\n",
    "    split_costs['Cost'], split_costs['Cost (Normal)'])\n",
    "\n",
    "all_armor_df = split_costs"
   ]
  },
  {
   "cell_type": "code",
   "execution_count": 13,
   "id": "bf38af3d-d847-473d-a398-5521b5488685",
   "metadata": {},
   "outputs": [],
   "source": [
    "pre_drop = all_armor_df.copy()\n",
    "\n",
    "drop_candidates = [\n",
    "    'Acquirement', 'Acquisition', 'Count', 'NES Image', 'Unnamed: 9',\n",
    "    'PS/GBA Image', 'PSP Image', 'PSP/Mobile Image',\n",
    "]\n",
    "drop_columns = [x for x in drop_candidates if x in all_armor_df.columns]\n",
    "\n",
    "pre_drop = pre_drop.drop(columns=drop_columns)\n",
    "\n",
    "pre_drop.reset_index()\n",
    "\n",
    "all_armor_df = pre_drop"
   ]
  },
  {
   "cell_type": "code",
   "execution_count": 14,
   "id": "d987b6ac-d167-4525-990d-4a10c43a5f09",
   "metadata": {},
   "outputs": [
    {
     "data": {
      "text/plain": [
       "['Name',\n",
       " 'Jobs',\n",
       " 'Defense',\n",
       " 'Evasion',\n",
       " 'Weight',\n",
       " 'Cost',\n",
       " 'Armor Type',\n",
       " 'Acquisition',\n",
       " 'Effect',\n",
       " 'Description',\n",
       " 'Alternative Name',\n",
       " 'Buy',\n",
       " 'Find',\n",
       " 'Drop',\n",
       " 'Bonus Content',\n",
       " 'Cost (Easy)',\n",
       " 'Cost (Normal)']"
      ]
     },
     "execution_count": 14,
     "metadata": {},
     "output_type": "execute_result"
    }
   ],
   "source": [
    "cols_order = [\n",
    "    'Name',\n",
    "    'Alternative Name',\n",
    "    'Armor Type',\n",
    "    'Jobs',\n",
    "    'Defense',\n",
    "    'Evasion',\n",
    "    'Weight'\n",
    "    'Description',\n",
    "    'Effect',\n",
    "    'Buy',\n",
    "    'Find',\n",
    "    'Drop',\n",
    "    'Cost',\n",
    "    'Cost (Easy)',\n",
    "    'Cost (Normal)',\n",
    "    'Bonus Content',\n",
    "]\n",
    "\n",
    "cols = all_armor_df.columns.values.tolist()\n",
    "\n",
    "cols"
   ]
  },
  {
   "cell_type": "code",
   "execution_count": 15,
   "id": "9589976a-5aad-40e1-99d1-10883794a6ca",
   "metadata": {},
   "outputs": [],
   "source": [
    "all_armor_df.to_csv('ff1_armor.csv', index=False)"
   ]
  }
 ],
 "metadata": {
  "kernelspec": {
   "display_name": "Python 3 (ipykernel)",
   "language": "python",
   "name": "python3"
  },
  "language_info": {
   "codemirror_mode": {
    "name": "ipython",
    "version": 3
   },
   "file_extension": ".py",
   "mimetype": "text/x-python",
   "name": "python",
   "nbconvert_exporter": "python",
   "pygments_lexer": "ipython3",
   "version": "3.12.3"
  }
 },
 "nbformat": 4,
 "nbformat_minor": 5
}
