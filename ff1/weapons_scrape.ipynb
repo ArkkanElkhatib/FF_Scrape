{
 "cells": [
  {
   "cell_type": "code",
   "execution_count": 1,
   "id": "77d242fb-81aa-4d95-a3f7-916c80a8c5d2",
   "metadata": {},
   "outputs": [],
   "source": [
    "RENAME_COLS = {\n",
    "    'Jobs_1': 'Jobs',\n",
    "    'Jobs_2': 'Description',\n",
    "    'Jobs_3': 'Flavour',\n",
    "}"
   ]
  },
  {
   "cell_type": "code",
   "execution_count": 2,
   "id": "c39a952b-5042-4d2f-a034-37e4bed0c549",
   "metadata": {},
   "outputs": [],
   "source": [
    "import pandas as pd\n",
    "import numpy as np"
   ]
  },
  {
   "cell_type": "code",
   "execution_count": 3,
   "id": "898f777a-eb0d-447d-9001-5450bdfb8414",
   "metadata": {},
   "outputs": [],
   "source": [
    "weapons_df = pd.read_html('https://finalfantasy.fandom.com/wiki/Final_Fantasy_weapons')"
   ]
  },
  {
   "cell_type": "code",
   "execution_count": 4,
   "id": "2262bec2-c1d9-45d5-bcc9-10cbf622d74e",
   "metadata": {},
   "outputs": [],
   "source": [
    "fists = weapons_df[1]\n",
    "daggers = weapons_df[2]\n",
    "swords = weapons_df[3]\n",
    "katanas = weapons_df[4]\n",
    "nunchakus = weapons_df[5]\n",
    "axes = weapons_df[6]\n",
    "hammers = weapons_df[7]\n",
    "staves = weapons_df[8]"
   ]
  },
  {
   "cell_type": "code",
   "execution_count": 5,
   "id": "e3f8625d-a3fb-4868-af2d-e75dd052ab54",
   "metadata": {},
   "outputs": [],
   "source": [
    "weapon_dfs = [\n",
    "    fists, daggers, swords, katanas,\n",
    "    nunchakus, axes, hammers, staves,\n",
    "]\n",
    "weapon_types = [\n",
    "    'Fists', 'Daggers', 'Swords', 'Katanas',\n",
    "    'Nunchakus', 'Axes', 'Hammers', 'Staves',\n",
    "]"
   ]
  },
  {
   "cell_type": "code",
   "execution_count": 6,
   "id": "85a72eb3-547f-491e-83d8-0dde929bebde",
   "metadata": {},
   "outputs": [],
   "source": [
    "all_weapons_dfs = pd.DataFrame()\n",
    "\n",
    "for df, weapon_type in zip(weapon_dfs, weapon_types):\n",
    "    df['Weapon Type'] = weapon_type\n",
    "    all_weapons_dfs = pd.concat([all_weapons_dfs, df], ignore_index=True)"
   ]
  },
  {
   "cell_type": "code",
   "execution_count": 7,
   "id": "d157da07-4cf9-4770-af8b-bd7c7abfaa42",
   "metadata": {},
   "outputs": [],
   "source": [
    "#Each table row (human observable row) is actually structured\n",
    "#as 2-3 rows in the website's code with the expection of Fists->Hands\n",
    "#which occupy only one row\n",
    "# E.g.\n",
    "#all_weapons_dfs.head(5)\n",
    "\n",
    "# If there are 2 rows, the second entry will share the Name of the item\n",
    "# and the Jobs, Atk, Acc, Crit, and Cost columns will be populated with\n",
    "# flavour text\n",
    "# E.g.\n",
    "# all_weapons_dfs.head(3)\n",
    "\n",
    "# If there are 3 rows, the second and third entry will share the Name \n",
    "# of the item and the Jobs, Atk, Acc, Crit, and Cost columns will \n",
    "# be populated with the item description (second entry) or the\n",
    "# flavour text (third entry)\n",
    "# E.g.\n",
    "# all_weapons_dfs.tail(3)"
   ]
  },
  {
   "cell_type": "code",
   "execution_count": 8,
   "id": "d9d0ea76-e19c-4721-a118-5ae184f47107",
   "metadata": {},
   "outputs": [],
   "source": [
    "all_weapons_dfs['Count'] = all_weapons_dfs.groupby('Name').cumcount()"
   ]
  },
  {
   "cell_type": "code",
   "execution_count": 9,
   "id": "a17e6c82-18e0-4075-b98d-196770ed311a",
   "metadata": {},
   "outputs": [],
   "source": [
    "reshaped = all_weapons_dfs.pivot(index='Name', columns='Count', values=['Jobs'])\n",
    "\n",
    "PIVOT_RENAME = {\n",
    "    '0': 'Jobs',\n",
    "    '1': 'Effect',\n",
    "    '2': 'Description',\n",
    "}\n",
    "\n",
    "reshaped.columns = [f'{i}' for col, i in reshaped.columns]\n",
    "reshaped.reset_index(inplace=True)\n",
    "reshaped = reshaped.rename(columns = PIVOT_RENAME)\n",
    "\n",
    "reshaped['Effect'], reshaped['Description'] = np.where(reshaped['Description'].isna(), (reshaped['Description'], reshaped['Effect']), (reshaped['Effect'], reshaped['Description']))\n",
    "\n",
    "reshaped['Effect'] = np.where(reshaped['Effect'].isna(), ('No Effect'), (reshaped['Effect']))"
   ]
  },
  {
   "cell_type": "code",
   "execution_count": 10,
   "id": "9f4b4c62-f805-4182-8289-d1350535f9b6",
   "metadata": {},
   "outputs": [],
   "source": [
    "grouped = all_weapons_dfs.groupby('Name').first()\n",
    "\n",
    "grouped.reset_index(inplace=True)\n",
    "\n",
    "all_weapons_dfs = grouped.merge(reshaped)"
   ]
  },
  {
   "cell_type": "code",
   "execution_count": 11,
   "id": "05199fe8-b6e7-4c73-9270-3116b63833c0",
   "metadata": {},
   "outputs": [],
   "source": [
    "all_weapons_dfs['Cost'] = all_weapons_dfs['Cost'].str.replace('(^[^0-9]+?(.*))', 'N/A', regex=True)\n",
    "all_weapons_dfs['Jobs'] = all_weapons_dfs['Jobs'].str.replace('Black Wizard', 'BW')\n",
    "all_weapons_dfs['Jobs'] = all_weapons_dfs['Jobs'].str.replace('White Wizard', 'WW')\n",
    "all_weapons_dfs['Jobs'] = all_weapons_dfs['Jobs'].str.replace('Red Wizard', 'RW')\n",
    "all_weapons_dfs['Jobs'] = all_weapons_dfs['Jobs'].str.replace('Knight', 'Kn')\n",
    "all_weapons_dfs['Jobs'] = all_weapons_dfs['Jobs'].str.replace('Ninja', 'Ni')\n",
    "all_weapons_dfs['Jobs'] = all_weapons_dfs['Jobs'].str.replace('All jobs but Thief', 'Wa, Kn, Ni, RM, RW, BM, BW, Mo, Ma')\n",
    "all_weapons_dfs['Jobs'] = all_weapons_dfs['Jobs'].str.replace('All jobs', 'Wa, Kn, Th, Ni, RM, RW, BM, BW, Mo, Ma')"
   ]
  },
  {
   "cell_type": "code",
   "execution_count": 12,
   "id": "1ebd92b3-0d41-429e-aa02-9f8a47371ab2",
   "metadata": {},
   "outputs": [],
   "source": [
    "all_weapons_dfs['Alternative Name'] = all_weapons_dfs['Name'].str.extract(\n",
    "    '(\\\\(.*)'\n",
    ")\n",
    "\n",
    "all_weapons_dfs['Alternative Name'] = all_weapons_dfs['Alternative Name'].str.replace(') (', ', ')\n",
    "all_weapons_dfs['Alternative Name'] = all_weapons_dfs['Alternative Name'].str.replace('(', '')\n",
    "all_weapons_dfs['Alternative Name'] = all_weapons_dfs['Alternative Name'].str.replace(')', '')\n",
    "\n",
    "all_weapons_dfs['Name'] = all_weapons_dfs['Name'].str.replace('(\\\\(.*)', '', regex=True)\n"
   ]
  },
  {
   "cell_type": "code",
   "execution_count": 13,
   "id": "53edb1b4-a6ea-44a7-8e11-e66e63c42b30",
   "metadata": {},
   "outputs": [],
   "source": [
    "b_df = all_weapons_dfs['Acquirement'].str.extract('(?=Buy: (.*?) (?=[A-Z][a-z]+:))|(?=Buy: (.*))', expand=False)\n",
    "all_weapons_dfs['Buy'] = np.where(b_df[0].notna(), b_df[0], b_df[1])\n",
    "\n",
    "f_df = all_weapons_dfs['Acquirement'].str.extract('(?=Find: (.*?) (?=[A-Z][a-z]+:))|(?=Find: (.*))', expand=False)\n",
    "all_weapons_dfs['Find'] = np.where(f_df[0].notna(), f_df[0], f_df[1])\n",
    "\n",
    "d_df = all_weapons_dfs['Acquirement'].str.extract('(?=Drop: (.*?) (?=[A-Z][a-z]+:))|(?=Drop: (.*))', expand=False)\n",
    "all_weapons_dfs['Drop'] = np.where(d_df[0].notna(), d_df[0], d_df[1])"
   ]
  },
  {
   "cell_type": "code",
   "execution_count": 14,
   "id": "554fa940-8d74-4874-bfcc-78c7316d3433",
   "metadata": {},
   "outputs": [],
   "source": [
    "BONUS_AREAS = [\n",
    "    'Earthgift Shrine', \n",
    "    'Hellfire Chasm', \n",
    "    'Lifespring Grotto', \n",
    "    'Whisperwind Cove',\n",
    "    'Labyrinth of Time',\n",
    "]\n",
    "\n",
    "BONUS_ENCOUNTERS = [\n",
    "    'Black Goblin',\n",
    "    'Wild Nakk',\n",
    "    'Gloom Widow',\n",
    "    'Desertpede',\n",
    "    'Catoblepas',\n",
    "    'Abyss Warm',\n",
    "    'Skudier',\n",
    "    'Silver Dragon',\n",
    "    'Dark Elemental',\n",
    "    'Devil Hound',\n",
    "    'Hundlegs'\n",
    "    'Python',\n",
    "    'Yellow Ogre',\n",
    "    'Elm Gigas',\n",
    "    'Death Elemental',\n",
    "    'Blue Troll',\n",
    "    'Poison Naga',\n",
    "    'Sahagin Queen',\n",
    "    'Revenant',\n",
    "    'Black Dragon',\n",
    "    'Blue Dragon',\n",
    "    'Dragon Zombie',\n",
    "    'Green Dragon',\n",
    "    'Holy Dragon',\n",
    "    'Red Dragon',\n",
    "    'White Dragon',\n",
    "    'Yellow Dragon',\n",
    "    'Death Manticore',\n",
    "    'Killer Shark',\n",
    "    'Dark Eye',\n",
    "    'Dark Wolf',\n",
    "    'Knocker',\n",
    "    'Red Flan',\n",
    "    'Squidraken'\n",
    "    'Earth Troll',\n",
    "    'Sekhret',\n",
    "    'Rock Gargoyle',\n",
    "    'Poison Eagle',\n",
    "    'Reaper',\n",
    "    'Undergrounder',\n",
    "    'Bonesnatch',\n",
    "    'Flood Gigas',\n",
    "    'Mad Ogre',\n",
    "    'Devil Wizard',\n",
    "    'Duel Knight',\n",
    "    'Unicorn',\n",
    "    'Prototype',\n",
    "    'Earth Plant',\n",
    "    'Bloody Eye',\n",
    "    'Mage Chimera',\n",
    "    'Mythril Golem',\n",
    "    'Yamatano Orochi',\n",
    "    'Blood Tiger',\n",
    "    'Pharaoh',\n",
    "    'Hundlegs',\n",
    "    'Flare Gigas',\n",
    "]\n",
    "\n",
    "BONUS_BOSSES = [\n",
    "    'Ahriman',\n",
    "    'Cerberus',\n",
    "    'Echidna',\n",
    "    'Two-Headed Dragon',\n",
    "    'Cognazzo',\n",
    "    'Scarmiglione',\n",
    "    'Barbariccia',\n",
    "    'Rubicante',\n",
    "    'Gilgamesh',\n",
    "    'Atomos',\n",
    "    'Omega',\n",
    "    'Shinrya',\n",
    "    'Astos',\n",
    "    'Vampire',\n",
    "    'Typhon',\n",
    "    'Orthros',\n",
    "    'Phatom Train',\n",
    "    'Death Gaze',\n",
    "    'Chronodia',\n",
    "]\n",
    "\n",
    "BONUS_CONTENT = BONUS_AREAS + BONUS_ENCOUNTERS + BONUS_BOSSES\n",
    "\n",
    "all_weapons_dfs['Bonus Content'] = all_weapons_dfs['Acquirement'].apply(lambda x: True if any(bonus in x for bonus in BONUS_CONTENT) else False)"
   ]
  },
  {
   "cell_type": "code",
   "execution_count": 15,
   "id": "4e463bdc-91a7-4702-9462-48df4384f19b",
   "metadata": {},
   "outputs": [],
   "source": [
    "all_weapons_dfs = all_weapons_dfs.fillna('N/A')"
   ]
  },
  {
   "cell_type": "code",
   "execution_count": 16,
   "id": "99254df4-ff34-47cb-b8fc-8f9e96d386d0",
   "metadata": {},
   "outputs": [],
   "source": [
    "split_costs = all_weapons_dfs.copy()\n",
    "\n",
    "split_costs['Cost (Easy)'] = split_costs['Cost'].str.extract(\n",
    "    '(.*) \\\\(Easy\\\\) ')\n",
    "split_costs['Cost (Normal)'] = split_costs['Cost'].str.extract(\n",
    "    '\\\\(Easy\\\\) (.*) \\\\(Normal\\\\)')\n",
    "\n",
    "split_costs['Cost (Easy)'] = np.where(split_costs['Cost (Easy)'].isna(),\n",
    "    split_costs['Cost'], split_costs['Cost (Easy)'])\n",
    "split_costs['Cost (Normal)'] = np.where(split_costs['Cost (Normal)'].isna(),\n",
    "    split_costs['Cost'], split_costs['Cost (Normal)'])\n",
    "\n",
    "all_weapons_dfs = split_costs"
   ]
  },
  {
   "cell_type": "code",
   "execution_count": 21,
   "id": "e1d55a2e-07df-49bd-b658-85228504ee60",
   "metadata": {},
   "outputs": [
    {
     "data": {
      "text/plain": [
       "60                             18\n",
       "61    Current HP/10 (Max Atk 100)\n",
       "Name: Atk, dtype: object"
      ]
     },
     "execution_count": 21,
     "metadata": {},
     "output_type": "execute_result"
    }
   ],
   "source": [
    "max_update = all_weapons_dfs.copy()\n",
    "\n",
    "max_update['Atk'] = max_update['Atk'].str.replace('Maximum Atk 100', ' (Max Atk 100)')\n",
    "max_update['Acc'] = max_update['Ac'].str.replace('Maximum Atk 100', ' (Max Atk 100)')\n",
    "\n",
    "max_update['Atk'].iloc[60:62]"
   ]
  },
  {
   "cell_type": "code",
   "execution_count": 17,
   "id": "3fd30751-153c-4e45-a5fb-db1cb40ceca9",
   "metadata": {},
   "outputs": [],
   "source": [
    "drop_candidates = [\n",
    "    'Acquirement', 'Count', 'NES Image', \n",
    "    'PS/GBA Image', 'PSP Image', 'PSP/Mobile Image',\n",
    "]\n",
    "drop_columns = [x for x in drop_candidates if x in all_weapons_dfs.columns]\n",
    "\n",
    "all_weapons_dfs = all_weapons_dfs.drop(columns=drop_columns)"
   ]
  },
  {
   "cell_type": "code",
   "execution_count": 18,
   "id": "3d189984-a5fa-41a5-af7f-400aaf41f876",
   "metadata": {},
   "outputs": [],
   "source": [
    "all_weapons_dfs.to_csv('ff1_weapons.csv', index=False)"
   ]
  }
 ],
 "metadata": {
  "kernelspec": {
   "display_name": "Python 3 (ipykernel)",
   "language": "python",
   "name": "python3"
  },
  "language_info": {
   "codemirror_mode": {
    "name": "ipython",
    "version": 3
   },
   "file_extension": ".py",
   "mimetype": "text/x-python",
   "name": "python",
   "nbconvert_exporter": "python",
   "pygments_lexer": "ipython3",
   "version": "3.12.3"
  }
 },
 "nbformat": 4,
 "nbformat_minor": 5
}
