{
 "cells": [
  {
   "cell_type": "code",
   "execution_count": 1,
   "id": "77d242fb-81aa-4d95-a3f7-916c80a8c5d2",
   "metadata": {},
   "outputs": [],
   "source": [
    "RENAME_COLS = {\n",
    "    'Jobs_1': 'Jobs',\n",
    "    'Jobs_2': 'Description',\n",
    "    'Jobs_3': 'Flavour',\n",
    "}"
   ]
  },
  {
   "cell_type": "code",
   "execution_count": 2,
   "id": "c39a952b-5042-4d2f-a034-37e4bed0c549",
   "metadata": {},
   "outputs": [],
   "source": [
    "import pandas as pd\n",
    "import numpy as np"
   ]
  },
  {
   "cell_type": "code",
   "execution_count": 3,
   "id": "898f777a-eb0d-447d-9001-5450bdfb8414",
   "metadata": {},
   "outputs": [],
   "source": [
    "weapons_df = pd.read_html('https://finalfantasy.fandom.com/wiki/Final_Fantasy_weapons')"
   ]
  },
  {
   "cell_type": "code",
   "execution_count": 4,
   "id": "2262bec2-c1d9-45d5-bcc9-10cbf622d74e",
   "metadata": {},
   "outputs": [],
   "source": [
    "fists = weapons_df[1]\n",
    "daggers = weapons_df[2]\n",
    "swords = weapons_df[3]\n",
    "katanas = weapons_df[4]\n",
    "nunchakus = weapons_df[5]\n",
    "axes = weapons_df[6]\n",
    "hammers = weapons_df[7]\n",
    "staves = weapons_df[8]"
   ]
  },
  {
   "cell_type": "code",
   "execution_count": 5,
   "id": "e3f8625d-a3fb-4868-af2d-e75dd052ab54",
   "metadata": {},
   "outputs": [],
   "source": [
    "weapon_dfs = [\n",
    "    fists, daggers, swords, katanas,\n",
    "    nunchakus, axes, hammers, staves,\n",
    "]\n",
    "weapon_types = [\n",
    "    'Fists', 'Daggers', 'Swords', 'Katanas',\n",
    "    'Nunchakus', 'Axes', 'Hammers', 'Staves',\n",
    "]"
   ]
  },
  {
   "cell_type": "code",
   "execution_count": 6,
   "id": "85a72eb3-547f-491e-83d8-0dde929bebde",
   "metadata": {},
   "outputs": [],
   "source": [
    "all_weapons_dfs = pd.DataFrame()\n",
    "\n",
    "for df, weapon_type in zip(weapon_dfs, weapon_types):\n",
    "    df['Weapon Type'] = weapon_type\n",
    "    all_weapons_dfs = pd.concat([all_weapons_dfs, df], ignore_index=True)"
   ]
  },
  {
   "cell_type": "code",
   "execution_count": 7,
   "id": "d157da07-4cf9-4770-af8b-bd7c7abfaa42",
   "metadata": {},
   "outputs": [],
   "source": [
    "#Each table row (human observable row) is actually structured\n",
    "#as 2-3 rows in the website's code with the expection of Fists->Hands\n",
    "#which occupy only one row\n",
    "# E.g.\n",
    "#all_weapons_dfs.head(5)\n",
    "\n",
    "# If there are 2 rows, the second entry will share the Name of the item\n",
    "# and the Jobs, Atk, Acc, Crit, and Cost columns will be populated with\n",
    "# flavour text\n",
    "# E.g.\n",
    "# all_weapons_dfs.head(3)\n",
    "\n",
    "# If there are 3 rows, the second and third entry will share the Name \n",
    "# of the item and the Jobs, Atk, Acc, Crit, and Cost columns will \n",
    "# be populated with the item description (second entry) or the\n",
    "# flavour text (third entry)\n",
    "# E.g.\n",
    "# all_weapons_dfs.tail(3)"
   ]
  },
  {
   "cell_type": "code",
   "execution_count": 8,
   "id": "d9d0ea76-e19c-4721-a118-5ae184f47107",
   "metadata": {},
   "outputs": [],
   "source": [
    "all_weapons_dfs['Count'] = all_weapons_dfs.groupby('Name').cumcount()"
   ]
  },
  {
   "cell_type": "code",
   "execution_count": 9,
   "id": "a17e6c82-18e0-4075-b98d-196770ed311a",
   "metadata": {},
   "outputs": [],
   "source": [
    "reshaped = all_weapons_dfs.pivot(index='Name', columns='Count', values=['Jobs'])\n",
    "\n",
    "PIVOT_RENAME = {\n",
    "    '0': 'Jobs',\n",
    "    '1': 'Effect',\n",
    "    '2': 'Description',\n",
    "}\n",
    "\n",
    "reshaped.columns = [f'{i}' for col, i in reshaped.columns]\n",
    "reshaped.reset_index(inplace=True)\n",
    "reshaped = reshaped.rename(columns = PIVOT_RENAME)\n",
    "\n",
    "reshaped['Effect'], reshaped['Description'] = np.where(reshaped['Description'].isna(), (reshaped['Description'], reshaped['Effect']), (reshaped['Effect'], reshaped['Description']))\n",
    "\n",
    "reshaped['Effect'] = np.where(reshaped['Effect'].isna(), ('No Effect'), (reshaped['Effect']))"
   ]
  },
  {
   "cell_type": "code",
   "execution_count": 10,
   "id": "9f4b4c62-f805-4182-8289-d1350535f9b6",
   "metadata": {},
   "outputs": [],
   "source": [
    "grouped = all_weapons_dfs.groupby('Name').first()\n",
    "\n",
    "grouped.reset_index(inplace=True)\n",
    "\n",
    "all_weapons_dfs = grouped.merge(reshaped)"
   ]
  },
  {
   "cell_type": "code",
   "execution_count": 11,
   "id": "5fb67a12-d92e-4af5-9a72-27d60c76ac96",
   "metadata": {},
   "outputs": [],
   "source": [
    "all_weapons_dfs['Cost'] = all_weapons_dfs['Cost'].str.replace('(^[^0-9]+?(.*))', 'N/A', regex=True)"
   ]
  },
  {
   "cell_type": "code",
   "execution_count": 12,
   "id": "05199fe8-b6e7-4c73-9270-3116b63833c0",
   "metadata": {},
   "outputs": [],
   "source": [
    "all_weapons_dfs['Cost'] = all_weapons_dfs['Cost'].str.replace('(^[^0-9]+?(.*))', 'N/A', regex=True)\n",
    "all_weapons_dfs['Jobs'] = all_weapons_dfs['Jobs'].str.replace('Black Wizard', 'BW')\n",
    "all_weapons_dfs['Jobs'] = all_weapons_dfs['Jobs'].str.replace('White Wizard', 'WW')\n",
    "all_weapons_dfs['Jobs'] = all_weapons_dfs['Jobs'].str.replace('Red Wizard', 'RW')\n",
    "all_weapons_dfs['Jobs'] = all_weapons_dfs['Jobs'].str.replace('Knight', 'Kn')\n",
    "all_weapons_dfs['Jobs'] = all_weapons_dfs['Jobs'].str.replace('Ninja', 'Ni')\n",
    "all_weapons_dfs['Jobs'] = all_weapons_dfs['Jobs'].str.replace('All jobs but Thief', 'Wa, Kn, Ni, RM, RW, BM, BW, Mo, Ma')\n",
    "all_weapons_dfs['Jobs'] = all_weapons_dfs['Jobs'].str.replace('All jobs', 'Wa, Kn, Th, Ni, RM, RW, BM, BW, Mo, Ma')"
   ]
  },
  {
   "cell_type": "code",
   "execution_count": 13,
   "id": "1ebd92b3-0d41-429e-aa02-9f8a47371ab2",
   "metadata": {},
   "outputs": [],
   "source": [
    "all_weapons_dfs['Alternative Name'] = all_weapons_dfs['Name'].str.extract(\n",
    "    '(\\\\(.*)'\n",
    ")\n",
    "\n",
    "all_weapons_dfs['Alternative Name'] = all_weapons_dfs['Alternative Name'].str.replace(') (', ', ')\n",
    "all_weapons_dfs['Alternative Name'] = all_weapons_dfs['Alternative Name'].str.replace('(', '')\n",
    "all_weapons_dfs['Alternative Name'] = all_weapons_dfs['Alternative Name'].str.replace(')', '')\n",
    "\n",
    "all_weapons_dfs['Name'] = all_weapons_dfs['Name'].str.replace('(\\\\(.*)', '', regex=True)\n"
   ]
  },
  {
   "cell_type": "code",
   "execution_count": 15,
   "id": "53edb1b4-a6ea-44a7-8e11-e66e63c42b30",
   "metadata": {},
   "outputs": [
    {
     "ename": "ValueError",
     "evalue": "Cannot set a DataFrame with multiple columns to the single column ('Buy', 'Buy')",
     "output_type": "error",
     "traceback": [
      "\u001b[31m---------------------------------------------------------------------------\u001b[39m",
      "\u001b[31mValueError\u001b[39m                                Traceback (most recent call last)",
      "\u001b[32m/tmp/ipykernel_3989/2566974840.py\u001b[39m in \u001b[36m?\u001b[39m\u001b[34m()\u001b[39m\n\u001b[32m----> \u001b[39m\u001b[32m1\u001b[39m all_weapons_dfs[\u001b[33m'Buy'\u001b[39m, \u001b[33m'Buy'\u001b[39m] = all_weapons_dfs[\u001b[33m'Acquirement'\u001b[39m].str.extract(\u001b[33m'(?=Buy: (.*?) (?=[A-Z][a-z]+:))|(?=Buy: (.*))'\u001b[39m)\n\u001b[32m      2\u001b[39m all_weapons_dfs[\u001b[33m'Buy'\u001b[39m, \u001b[33m'Buy'\u001b[39m] = all_weapons_dfs[\u001b[33m'Buy'\u001b[39m].str.strip()\n\u001b[32m      3\u001b[39m all_weapons_dfs[\u001b[33m'Find'\u001b[39m] = all_weapons_dfs[\u001b[33m'Acquirement'\u001b[39m].str.extract(\u001b[33m'(?=Find: (.*?) (?=[A-Z][a-z]+:))|(?=Find: (.*))'\u001b[39m)\n\u001b[32m      4\u001b[39m all_weapons_dfs[\u001b[33m'Find'\u001b[39m] = all_weapons_dfs[\u001b[33m'Find'\u001b[39m].str.strip()\n",
      "\u001b[32m~/.local/lib/python3.12/site-packages/pandas/core/frame.py\u001b[39m in \u001b[36m?\u001b[39m\u001b[34m(self, key, value)\u001b[39m\n\u001b[32m   4302\u001b[39m             self._setitem_frame(key, value)\n\u001b[32m   4303\u001b[39m         \u001b[38;5;28;01melif\u001b[39;00m isinstance(key, (Series, np.ndarray, list, Index)):\n\u001b[32m   4304\u001b[39m             self._setitem_array(key, value)\n\u001b[32m   4305\u001b[39m         \u001b[38;5;28;01melif\u001b[39;00m isinstance(value, DataFrame):\n\u001b[32m-> \u001b[39m\u001b[32m4306\u001b[39m             self._set_item_frame_value(key, value)\n\u001b[32m   4307\u001b[39m         elif (\n\u001b[32m   4308\u001b[39m             is_list_like(value)\n\u001b[32m   4309\u001b[39m             \u001b[38;5;28;01mand\u001b[39;00m \u001b[38;5;28;01mnot\u001b[39;00m self.columns.is_unique\n",
      "\u001b[32m~/.local/lib/python3.12/site-packages/pandas/core/frame.py\u001b[39m in \u001b[36m?\u001b[39m\u001b[34m(self, key, value)\u001b[39m\n\u001b[32m   4460\u001b[39m \n\u001b[32m   4461\u001b[39m             \u001b[38;5;28;01mreturn\u001b[39;00m self.isetitem(locs, value)\n\u001b[32m   4462\u001b[39m \n\u001b[32m   4463\u001b[39m         \u001b[38;5;28;01mif\u001b[39;00m len(value.columns) > \u001b[32m1\u001b[39m:\n\u001b[32m-> \u001b[39m\u001b[32m4464\u001b[39m             raise ValueError(\n\u001b[32m   4465\u001b[39m                 \u001b[33m\"Cannot set a DataFrame with multiple columns to the single \"\u001b[39m\n\u001b[32m   4466\u001b[39m                 f\"column {key}\"\n\u001b[32m   4467\u001b[39m             )\n",
      "\u001b[31mValueError\u001b[39m: Cannot set a DataFrame with multiple columns to the single column ('Buy', 'Buy')"
     ]
    }
   ],
   "source": [
    "all_weapons_dfs['Buy'] = all_weapons_dfs['Acquirement'].str.extract('(?=Buy: (.*?) (?=[A-Z][a-z]+:))|(?=Buy: (.*))')\n",
    "all_weapons_dfs['Buy'] = all_weapons_dfs['Buy'].str.strip()\n",
    "all_weapons_dfs['Find'] = all_weapons_dfs['Acquirement'].str.extract('(?=Find: (.*?) (?=[A-Z][a-z]+:))|(?=Find: (.*))')\n",
    "all_weapons_dfs['Find'] = all_weapons_dfs['Find'].str.strip()\n",
    "all_weapons_dfs['Drop'] = all_weapons_dfs['Acquirement'].str.extract('(?=Drop: (.*?) (?=[A-Z][a-z]+:))|(?=Drop: (.*))')\n",
    "all_weapons_dfs['Drop'] = all_weapons_dfs['Drop'].str.strip()"
   ]
  },
  {
   "cell_type": "code",
   "execution_count": null,
   "id": "554fa940-8d74-4874-bfcc-78c7316d3433",
   "metadata": {},
   "outputs": [],
   "source": [
    "BONUS_AREAS = [\n",
    "    'Earthgift Shrine', 'Hellfire Chasm', 'Lifespring Grotto', 'Whisperwind Cove'\n",
    "]\n",
    "\n",
    "all_weapons_dfs['Bonus Content'] = all_weapons_dfs['Acquirement'].apply(lambda x: True if any(bonus_area in x for bonus_area in BONUS_AREAS) else False)"
   ]
  },
  {
   "cell_type": "code",
   "execution_count": null,
   "id": "4e463bdc-91a7-4702-9462-48df4384f19b",
   "metadata": {},
   "outputs": [],
   "source": [
    "all_weapons_dfs = all_weapons_dfs.fillna('N/A')"
   ]
  },
  {
   "cell_type": "code",
   "execution_count": null,
   "id": "99254df4-ff34-47cb-b8fc-8f9e96d386d0",
   "metadata": {},
   "outputs": [],
   "source": [
    "all_weapons_dfs.columns.values.tolist()"
   ]
  },
  {
   "cell_type": "code",
   "execution_count": null,
   "id": "3fd30751-153c-4e45-a5fb-db1cb40ceca9",
   "metadata": {},
   "outputs": [],
   "source": [
    "drop_candidates = [\n",
    "    'Acquirement', 'Count', 'NES Image', \n",
    "    'PS/GBA Image', 'PSP Image', 'PSP/Mobile Image',\n",
    "]\n",
    "drop_columns = [x for x in drop_candidates if x in all_weapons_dfs.columns]\n",
    "\n",
    "all_weapons_dfs = all_weapons_dfs.drop(columns=drop_columns)"
   ]
  },
  {
   "cell_type": "code",
   "execution_count": null,
   "id": "3d189984-a5fa-41a5-af7f-400aaf41f876",
   "metadata": {},
   "outputs": [],
   "source": [
    "all_weapons_dfs"
   ]
  },
  {
   "cell_type": "code",
   "execution_count": null,
   "id": "0e2d8d78-7b34-4e9e-9c6c-413d5d629ac4",
   "metadata": {},
   "outputs": [],
   "source": []
  }
 ],
 "metadata": {
  "kernelspec": {
   "display_name": "Python 3 (ipykernel)",
   "language": "python",
   "name": "python3"
  },
  "language_info": {
   "codemirror_mode": {
    "name": "ipython",
    "version": 3
   },
   "file_extension": ".py",
   "mimetype": "text/x-python",
   "name": "python",
   "nbconvert_exporter": "python",
   "pygments_lexer": "ipython3",
   "version": "3.12.3"
  }
 },
 "nbformat": 4,
 "nbformat_minor": 5
}
